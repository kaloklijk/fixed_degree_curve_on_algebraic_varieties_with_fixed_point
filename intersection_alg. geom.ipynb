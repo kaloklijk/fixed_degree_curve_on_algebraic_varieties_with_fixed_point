{
 "cells": [
  {
   "cell_type": "markdown",
   "id": "3e71023d-d803-432c-9fdc-c2e6a97f7341",
   "metadata": {},
   "source": [
    "# Calculating the equation of the degree n+1 polynomial passes through n points in an algebraic varieties V[y-f(x)]"
   ]
  },
  {
   "cell_type": "markdown",
   "id": "9863d78d-9718-4bbd-9ae4-0081cdcde272",
   "metadata": {},
   "source": [
    "## Install Dependencies"
   ]
  },
  {
   "cell_type": "code",
   "execution_count": 25,
   "id": "635e18c3-7896-4107-9661-da412ecf8d6f",
   "metadata": {},
   "outputs": [
    {
     "name": "stdout",
     "output_type": "stream",
     "text": [
      "ERROR! Session/line number was not unique in database. History logging moved to new session 33\n",
      "Requirement already satisfied: pip in c:\\program files\\python39\\lib\\site-packages (22.0.3)\n",
      "Requirement already satisfied: sympy in c:\\program files\\python39\\lib\\site-packages (1.9)\n",
      "Requirement already satisfied: numpy in c:\\program files\\python39\\lib\\site-packages (1.21.4)\n",
      "Requirement already satisfied: matplotlib in c:\\program files\\python39\\lib\\site-packages (3.5.0)\n",
      "Requirement already satisfied: flask in c:\\program files\\python39\\lib\\site-packages (2.0.2)\n",
      "Requirement already satisfied: pyomo in c:\\program files\\python39\\lib\\site-packages (6.2)\n",
      "Requirement already satisfied: mpmath>=0.19 in c:\\program files\\python39\\lib\\site-packages (from sympy) (1.2.1)\n",
      "Requirement already satisfied: fonttools>=4.22.0 in c:\\program files\\python39\\lib\\site-packages (from matplotlib) (4.28.2)\n",
      "Requirement already satisfied: kiwisolver>=1.0.1 in c:\\program files\\python39\\lib\\site-packages (from matplotlib) (1.3.2)\n",
      "Requirement already satisfied: setuptools-scm>=4 in c:\\program files\\python39\\lib\\site-packages (from matplotlib) (6.3.2)\n",
      "Requirement already satisfied: pillow>=6.2.0 in c:\\program files\\python39\\lib\\site-packages (from matplotlib) (8.4.0)\n",
      "Requirement already satisfied: cycler>=0.10 in c:\\program files\\python39\\lib\\site-packages (from matplotlib) (0.11.0)\n",
      "Requirement already satisfied: packaging>=20.0 in c:\\program files\\python39\\lib\\site-packages (from matplotlib) (21.3)\n",
      "Requirement already satisfied: python-dateutil>=2.7 in c:\\program files\\python39\\lib\\site-packages (from matplotlib) (2.8.2)\n",
      "Requirement already satisfied: pyparsing>=2.2.1 in c:\\program files\\python39\\lib\\site-packages (from matplotlib) (3.0.6)\n",
      "Requirement already satisfied: Jinja2>=3.0 in c:\\program files\\python39\\lib\\site-packages (from flask) (3.0.3)\n",
      "Requirement already satisfied: itsdangerous>=2.0 in c:\\program files\\python39\\lib\\site-packages (from flask) (2.0.1)\n",
      "Requirement already satisfied: Werkzeug>=2.0 in c:\\program files\\python39\\lib\\site-packages (from flask) (2.0.2)\n",
      "Requirement already satisfied: click>=7.1.2 in c:\\program files\\python39\\lib\\site-packages (from flask) (8.0.3)\n",
      "Requirement already satisfied: ply in c:\\program files\\python39\\lib\\site-packages (from pyomo) (3.11)\n",
      "Requirement already satisfied: colorama in c:\\program files\\python39\\lib\\site-packages (from click>=7.1.2->flask) (0.4.4)\n",
      "Requirement already satisfied: MarkupSafe>=2.0 in c:\\program files\\python39\\lib\\site-packages (from Jinja2>=3.0->flask) (2.0.1)\n",
      "Requirement already satisfied: six>=1.5 in c:\\program files\\python39\\lib\\site-packages (from python-dateutil>=2.7->matplotlib) (1.16.0)\n",
      "Requirement already satisfied: setuptools in c:\\program files\\python39\\lib\\site-packages (from setuptools-scm>=4->matplotlib) (56.0.0)\n",
      "Requirement already satisfied: tomli>=1.0.0 in c:\\program files\\python39\\lib\\site-packages (from setuptools-scm>=4->matplotlib) (1.2.2)\n"
     ]
    }
   ],
   "source": [
    "!pip install --upgrade pip\n",
    "!pip install sympy numpy matplotlib flask pyomo"
   ]
  },
  {
   "cell_type": "markdown",
   "id": "0cf8f808-a9dd-4264-a705-e7bc2ddb7e37",
   "metadata": {},
   "source": [
    "## Import required Dependencies"
   ]
  },
  {
   "cell_type": "code",
   "execution_count": 3,
   "id": "f03dfccf-e688-4993-8985-0bf198a4f579",
   "metadata": {},
   "outputs": [],
   "source": [
    "import sympy as sp\n",
    "from sympy.plotting import plot\n",
    "from sympy.utilities.lambdify import lambdify\n",
    "import math\n",
    "import matplotlib.pyplot as plt\n",
    "import numpy as np\n",
    "from sympy.parsing.sympy_parser import parse_expr\n",
    "import flask as fk               ## for software development"
   ]
  },
  {
   "cell_type": "markdown",
   "id": "f37a6036-8c01-4193-acfc-e0191488c148",
   "metadata": {},
   "source": [
    "## functions"
   ]
  },
  {
   "cell_type": "code",
   "execution_count": 107,
   "id": "aca6d5cf-3304-40c3-89c2-1f100e0e8165",
   "metadata": {},
   "outputs": [],
   "source": [
    "def strtoexpr(s):\n",
    "    '''\n",
    "    convert a string object into expression\n",
    "    '''\n",
    "    num = ['0', '1', '2', '3', '4', '5', '6', '7', '8', '9']\n",
    "    for i in np.arange(0, len(s)*2):\n",
    "        try:\n",
    "            if  s[i] in num and s[i+1] == 'x':\n",
    "                s = s[:i+1] + '*' + s[i+1:]\n",
    "            if s[i] == 'x' and s[i+1] == '^':\n",
    "                s = s[:i+1] + \"**\" + s[i+2:]\n",
    "        except:\n",
    "            break\n",
    "    print(s)\n",
    "    expr = parse_expr(s, evaluate = False)\n",
    "    return expr\n",
    "\n",
    "def varieties(expr): # expr is an expression\n",
    "    '''\n",
    "    return and plot the varieties of y - f(x)\n",
    "    '''\n",
    "    v = sp.Eq(expr, 0)\n",
    "    plot(expr,(x, -50, 50), show = True ,label = \"y-f(x) = 0\")\n",
    "    return v\n",
    "    \n",
    "def curve(expr, xi, x):\n",
    "    '''\n",
    "    get the equation of the polynomial curve passes through xi on the varieties y-f(x), f(x) with expression expr\n",
    "    '''\n",
    "    divisorset = []\n",
    "    for i in xi:\n",
    "        f = x-i\n",
    "        divisorset.append(f)\n",
    "    divisor = 1\n",
    "    for d in divisorset:\n",
    "        divisor = divisor*d\n",
    "    q, r = sp.div(expr, divisor)\n",
    "    p1 = plot(expr, r, q,(x, -50, 50), show = True, lengend = True)\n",
    "    return q, r\n",
    "\n",
    "def tangent(expr, p):\n",
    "    '''\n",
    "    find the tangent at a point p using curve function\n",
    "    '''\n",
    "    xi = [float(p), float(p)]\n",
    "    return curve(expr, xi, x)[1]\n",
    "\n",
    "def diff_slope(expr, p):\n",
    "    x = sp.symbols('x')\n",
    "    t = sp.diff(expr, x, x=p)\n",
    "    return t"
   ]
  },
  {
   "cell_type": "markdown",
   "id": "071396df-649d-456d-be7b-ede75f4bdf79",
   "metadata": {},
   "source": [
    "## set the varieties and solve for x, y=0"
   ]
  },
  {
   "cell_type": "code",
   "execution_count": 108,
   "id": "4f7f837c-153c-45cb-b21b-963a53120523",
   "metadata": {},
   "outputs": [
    {
     "name": "stdin",
     "output_type": "stream",
     "text": [
      "input a polynomial with variable x:\n",
      " 2x+3\n"
     ]
    },
    {
     "name": "stdout",
     "output_type": "stream",
     "text": [
      "2*x+3\n",
      "[-3/2]\n"
     ]
    },
    {
     "data": {
      "image/png": "[encoded data removed]",
      "text/plain": [
       "<Figure size 432x288 with 1 Axes>"
      ]
     },
     "metadata": {
      "needs_background": "light"
     },
     "output_type": "display_data"
    },
    {
     "name": "stdout",
     "output_type": "stream",
     "text": [
      "\n",
      "\n"
     ]
    }
   ],
   "source": [
    "## set the variables x, y, z\n",
    "x, y, z = sp.symbols('x y z')\n",
    "## get user input as a polynomial equation\n",
    "s = input(\"input a polynomial with variable x:\\n\")\n",
    "## turn user input to sympy polynomial expression\n",
    "f = strtoexpr(s)\n",
    "deg = sp.degree(f, gen = x)\n",
    "## print out x's for f(x) = 0\n",
    "print(sp.solve(f))\n",
    "## varieties V\n",
    "V = varieties(f)\n",
    "## indentation\n",
    "print(\"\\n\")\n"
   ]
  },
  {
   "cell_type": "code",
   "execution_count": 109,
   "id": "ef038116-5b52-480a-aaec-ce4c646d7f94",
   "metadata": {},
   "outputs": [
    {
     "name": "stdout",
     "output_type": "stream",
     "text": [
      "please input the marked points {xi}:\n",
      "\n"
     ]
    },
    {
     "name": "stdin",
     "output_type": "stream",
     "text": [
      " 1\n"
     ]
    },
    {
     "data": {
      "image/png": "[encoded data removed]",
      "text/plain": [
       "<Figure size 432x288 with 1 Axes>"
      ]
     },
     "metadata": {
      "needs_background": "light"
     },
     "output_type": "display_data"
    },
    {
     "name": "stdout",
     "output_type": "stream",
     "text": [
      "(2.00000000000000, 5.00000000000000)\n"
     ]
    },
    {
     "name": "stdin",
     "output_type": "stream",
     "text": [
      "The tangent at point:\n",
      " 1\n"
     ]
    },
    {
     "name": "stdout",
     "output_type": "stream",
     "text": [
      "2\n"
     ]
    },
    {
     "data": {
      "image/png": "[encoded data removed]",
      "text/plain": [
       "<Figure size 432x288 with 1 Axes>"
      ]
     },
     "metadata": {
      "needs_background": "light"
     },
     "output_type": "display_data"
    },
    {
     "data": {
      "text/latex": [
       "$\\displaystyle 2.0 x + 3.0$"
      ],
      "text/plain": [
       "2.0*x + 3.0"
      ]
     },
     "execution_count": 109,
     "metadata": {},
     "output_type": "execute_result"
    }
   ],
   "source": [
    "## marked points set\n",
    "ni = []\n",
    "## get the generic marked points from users\n",
    "print(\"please input the marked points {xi}:\\n\")\n",
    "for i in np.arange(0, deg):\n",
    "    try:\n",
    "        a = float(input())\n",
    "        ni.append(a)\n",
    "    except:\n",
    "        break\n",
    "## The polynomial curve passes through the marked points\n",
    "print(curve(f, ni, x))\n",
    "## The tangent to the varieties at a point n\n",
    "n = input(\"The tangent at point:\\n\")\n",
    "print(diff_slope(f, n))\n",
    "tangent(f, n)"
   ]
  }
 ],
 "metadata": {
  "kernelspec": {
   "display_name": "Python 3 (ipykernel)",
   "language": "python",
   "name": "python3"
  },
  "language_info": {
   "codemirror_mode": {
    "name": "ipython",
    "version": 3
   },
   "file_extension": ".py",
   "mimetype": "text/x-python",
   "name": "python",
   "nbconvert_exporter": "python",
   "pygments_lexer": "ipython3",
   "version": "3.9.6"
  }
 },
 "nbformat": 4,
 "nbformat_minor": 5
}
